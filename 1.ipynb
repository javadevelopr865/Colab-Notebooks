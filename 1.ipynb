{
  "nbformat": 4,
  "nbformat_minor": 0,
  "metadata": {
    "colab": {
      "name": "1.ipynb",
      "private_outputs": true,
      "provenance": [],
      "authorship_tag": "ABX9TyPf2wUQ4GkWZn6Vn11d/Sld",
      "include_colab_link": true
    },
    "kernelspec": {
      "name": "python3",
      "display_name": "Python 3"
    },
    "language_info": {
      "name": "python"
    },
    "accelerator": "GPU"
  },
  "cells": [
    {
      "cell_type": "markdown",
      "metadata": {
        "id": "view-in-github",
        "colab_type": "text"
      },
      "source": [
        "<a href=\"https://colab.research.google.com/github/javadevelopr865/Colab-Notebooks/blob/main/1.ipynb\" target=\"_parent\"><img src=\"https://colab.research.google.com/assets/colab-badge.svg\" alt=\"Open In Colab\"/></a>"
      ]
    },
    {
      "cell_type": "code",
      "metadata": {
        "id": "gFoC_VnmhbuM"
      },
      "source": [
        "!pip install -Uqq fastbook\n"
      ],
      "execution_count": null,
      "outputs": []
    },
    {
      "cell_type": "code",
      "metadata": {
        "id": "MmIK_IhUhfBR"
      },
      "source": [
        "import fastbook\n",
        "fastbook.setup_book()"
      ],
      "execution_count": null,
      "outputs": []
    },
    {
      "cell_type": "code",
      "metadata": {
        "id": "6rpaHItAhnnB"
      },
      "source": [
        "from fastbook import *\n"
      ],
      "execution_count": null,
      "outputs": []
    },
    {
      "cell_type": "code",
      "metadata": {
        "id": "CjQ7WjNyl4CH"
      },
      "source": [
        "from fastai.vision.all import *"
      ],
      "execution_count": null,
      "outputs": []
    },
    {
      "cell_type": "code",
      "metadata": {
        "id": "rTTXIsJnpPBF"
      },
      "source": [
        "path = untar_data(URLs.PETS)/'images'"
      ],
      "execution_count": null,
      "outputs": []
    },
    {
      "cell_type": "code",
      "metadata": {
        "id": "4T50V_KatAnu"
      },
      "source": [
        "path"
      ],
      "execution_count": null,
      "outputs": []
    },
    {
      "cell_type": "code",
      "metadata": {
        "id": "jjrPiDsspUtn"
      },
      "source": [
        "def is_cat(x):\n",
        "  return x[0].isupper()\n",
        "\n",
        "dls= ImageDataLoaders.from_name_func(path, get_image_files(path),\n",
        "                                     valid_pct=0.2, seed=42,\n",
        "                                     label_func=is_cat, item_tfms=Resize(224))\n",
        "\n",
        "learn=cnn_learner(dls, resnet34, metrics=error_rate)\n",
        "learn.fine_tune(1)"
      ],
      "execution_count": null,
      "outputs": []
    },
    {
      "cell_type": "code",
      "metadata": {
        "id": "6NAaPbrmtweO"
      },
      "source": [
        "img=PILImage.create(image_bear())\n",
        "img.to_thumb(180)"
      ],
      "execution_count": null,
      "outputs": []
    },
    {
      "cell_type": "code",
      "metadata": {
        "id": "_lqq8NIk0gFx"
      },
      "source": [
        "uploader= widgets.FileUpload()\n",
        "uploader"
      ],
      "execution_count": null,
      "outputs": []
    },
    {
      "cell_type": "code",
      "metadata": {
        "id": "3l-MbhRX1TiJ"
      },
      "source": [
        "img=PILImage.create(uploader.data[0])\n",
        "\n",
        "is_cat,_, probs = learn.predict(img)\n",
        "print(f\"Is this a cat?: {is_cat}.\") \n",
        "print(f\"Probability it's a cat: {probs[1].item():.6f}\")"
      ],
      "execution_count": null,
      "outputs": []
    },
    {
      "cell_type": "code",
      "metadata": {
        "id": "2-6ekPQs2BQG"
      },
      "source": [
        "gv('''ordering=in\n",
        "model[shape=box3d width=1 height=0.7 label=architecture]\n",
        "inputs->model->predictions;parameters->model;\n",
        "labels->loss; predictions->loss\n",
        "loss->parameters[constraint=true label=update]\n",
        "''')"
      ],
      "execution_count": null,
      "outputs": []
    },
    {
      "cell_type": "code",
      "metadata": {
        "id": "Mw_Ro_0-4T1p"
      },
      "source": [
        "gv??"
      ],
      "execution_count": null,
      "outputs": []
    },
    {
      "cell_type": "code",
      "metadata": {
        "id": "OzOCHANS4VtT"
      },
      "source": [
        ""
      ],
      "execution_count": null,
      "outputs": []
    },
    {
      "cell_type": "code",
      "metadata": {
        "id": "S7L6juzsBbCu"
      },
      "source": [
        "path= untar_data(URLs.CAMVID_TINY)\n",
        "dls = SegmentationDataLoaders.from_label_func(\n",
        "    path, bs=8, fnames=get_image_files(path/\"images\"),\n",
        "    label_func=lambda o: path/'labels'/f'{o.stem}_P{o.suffix}',\n",
        "    codes = np.loadtxt(path/'codes.txt', dtype=str)\n",
        ")\n",
        "learn = unet_learner(dls,resnet34)\n",
        "learn.fine_tune(8)"
      ],
      "execution_count": null,
      "outputs": []
    },
    {
      "cell_type": "code",
      "metadata": {
        "id": "oUw-jXQbNqKO"
      },
      "source": [
        "from fastai.text.all import *"
      ],
      "execution_count": null,
      "outputs": []
    },
    {
      "cell_type": "code",
      "metadata": {
        "id": "HcfovgHfz3L7"
      },
      "source": [
        "dls = TextDataLoaders.from_folder(untar_data(URLs.IMDB), \n",
        "                                  valid='test',bs=16)\n",
        "learn = text_classifier_learner(dls, AWD_LSTM, drop_mult=0.5,metrics=accuracy)\n",
        "learn.fine_tune(4,1e-2)"
      ],
      "execution_count": null,
      "outputs": []
    },
    {
      "cell_type": "code",
      "metadata": {
        "id": "DtZmzTyA0Rku"
      },
      "source": [
        "#learn.predict(\"That movie sucked.\")"
      ],
      "execution_count": null,
      "outputs": []
    },
    {
      "cell_type": "code",
      "metadata": {
        "id": "FmWb2gAj78Hh"
      },
      "source": [
        "from fastai.tabular.all import *\n",
        "path = untar_data(URLs.ADULT_SAMPLE)\n",
        "\n",
        "dls = TabularDataLoaders.from_csv(path/'adult.csv',\n",
        "                                  path=path,y_names=\"salary\",\n",
        "                                  cat_names = ['workclass','education',\n",
        "                                               'marital-status','occupation','relationship','race'],\n",
        "                                  cont_names =['age','fnlwgt','education-num'],\n",
        "                                  procs=[Categorify,FillMissing, Normalize])\n",
        "\n",
        "learn=tabular_learner(dls,metrics=accuracy)\n",
        "\n",
        "\n",
        "                                "
      ],
      "execution_count": null,
      "outputs": []
    },
    {
      "cell_type": "code",
      "metadata": {
        "id": "Q-StRLfp85xV"
      },
      "source": [
        "learn.fit_one_cycle(3)"
      ],
      "execution_count": null,
      "outputs": []
    },
    {
      "cell_type": "code",
      "metadata": {
        "id": "5pMk6R4M9SZY"
      },
      "source": [
        "from fastai.collab import *\n",
        "path = untar_data(URLs.ML_SAMPLE)\n",
        "dls = CollabDataLoaders.from_csv(path/'ratings.csv')\n",
        "learn = collab_learner(dls,y_range=(0.5,5.5))\n",
        "learn.fine_tune(10)"
      ],
      "execution_count": null,
      "outputs": []
    },
    {
      "cell_type": "code",
      "metadata": {
        "id": "Iy1UHE-1_W08"
      },
      "source": [
        "learn.show_results()"
      ],
      "execution_count": null,
      "outputs": []
    },
    {
      "cell_type": "code",
      "metadata": {
        "id": "ds7gU2KY_ihT"
      },
      "source": [
        ""
      ],
      "execution_count": null,
      "outputs": []
    }
  ]
}